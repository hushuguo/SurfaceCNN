{
 "cells": [
  {
   "cell_type": "code",
   "execution_count": 2,
   "metadata": {
    "ExecuteTime": {
     "end_time": "2020-11-21T11:22:54.969542Z",
     "start_time": "2020-11-21T11:22:54.951367Z"
    }
   },
   "outputs": [
    {
     "name": "stdout",
     "output_type": "stream",
     "text": [
      "['8.dat', '10.dat', '12.dat', '14.dat', '16.dat', '18.dat', '20.dat', '22.dat', '24.dat', '26.dat', '28.dat', '30.dat', '32.dat', '35.dat', '40.dat', '45.dat', '50.dat', '55.dat', '60.dat', '65.dat', '70.dat']\n"
     ]
    }
   ],
   "source": [
    "'''\n",
    "this script is used to extract phase dispersion curves \n",
    "\n",
    "at each grid. And then we interpolate those disperion curves into 8-50s. \n",
    "'''\n",
    "import os\n",
    "from scipy.interpolate import InterpolatedUnivariateSpline\n",
    "import matplotlib.pyplot as plt\n",
    "import numpy as np\n",
    "\n",
    "os.system(\"test -d Output || mkdir Output\")\n",
    "os.system('rm -rf ./Output/dispersion_ph && mkdir ./Output/dispersion_ph')\n",
    "periods = np.array([8,10,12,14,16,18,20,22,24,26,28,30,32,35,40,45,50])# periods used to interpolate\n",
    "files = os.listdir(\"./Input/InputPhaseData/\")\n",
    "files.sort(key=lambda x:int(x[:-4]))\n",
    "print(files)"
   ]
  },
  {
   "cell_type": "code",
   "execution_count": 3,
   "metadata": {
    "ExecuteTime": {
     "end_time": "2020-11-21T11:23:05.898970Z",
     "start_time": "2020-11-21T11:23:03.263109Z"
    }
   },
   "outputs": [
    {
     "name": "stdout",
     "output_type": "stream",
     "text": [
      "8 8.dat\n",
      "10 10.dat\n",
      "12 12.dat\n",
      "14 14.dat\n",
      "16 16.dat\n",
      "18 18.dat\n",
      "20 20.dat\n",
      "22 22.dat\n",
      "24 24.dat\n",
      "26 26.dat\n",
      "28 28.dat\n",
      "30 30.dat\n",
      "32 32.dat\n",
      "35 35.dat\n",
      "40 40.dat\n",
      "45 45.dat\n",
      "50 50.dat\n",
      "55 55.dat\n",
      "60 60.dat\n",
      "65 65.dat\n",
      "70 70.dat\n",
      "4901 23.00_98.50\n",
      "ok return\n"
     ]
    }
   ],
   "source": [
    "dispersion={}\n",
    "for file in files:\n",
    "    if(file[-4:]=='.dat'):\n",
    "        temp=file.split('.')\n",
    "        period=temp[0] \n",
    "        print(period,file)            \n",
    "        lines = np.loadtxt(\"./Input/InputPhaseData/\"+file)\n",
    "        for line in lines:\n",
    "            lon,lat,vel = line[0],line[1],line[2]\n",
    "            lon,lat,vel,error = line[0],line[1],line[2],line[3]\n",
    "            error=float(line[3])\n",
    "            key = \"%.2f\"%lat+'_'+\"%.2f\"%lon;\n",
    "            if key in dispersion:\n",
    "                dispersion[key].append([float(period),float(vel),float(error)])\n",
    "            else:\n",
    "                dispersion[key] = [[float(period),float(vel),float(error)]]                                        \n",
    "# print(dispersion['37.5_103'])\n",
    "# extract all periods,not just 8-50s\n",
    "#https://stackoverflow.com/questions/2745329/how-to-make-scipy-interpolate-give-an-extrapolated-result-beyond-the-input-range\n",
    "# fig = plt.figure(1)\n",
    "key_all = []\n",
    "count = 0\n",
    "for key in dispersion:\n",
    "    a = np.array(dispersion[key])\n",
    "    x = a[:,0];y = a[:,1]; z = a[:,2]\n",
    "    if abs(len(periods) - len(x))<5:\n",
    "        key_all.append(key)\n",
    "        count = count+1\n",
    "        \n",
    "        f1 = InterpolatedUnivariateSpline(x, y,k=1) # quadratic\n",
    "        f2 = InterpolatedUnivariateSpline(x, z,k=1) # extrapolate or interpolate\n",
    "        vel_new   = f1(periods)\n",
    "        error_new = f2(periods)\n",
    "    #             plt.plot(periods,vel_new,'o')\n",
    "    #             plt.plot(x,y,'*-')\n",
    "    #             plt.pause(0.1)\n",
    "    #             plt.clf()\n",
    "        with open('./Output/dispersion_ph/'+key+'.txt','w') as f:\n",
    "            for i in range(len(periods)):\n",
    "                f.write(\"{} \\t {:.3f} \\t {:.4f}\\n\".format(periods[i],vel_new[i],error_new[i]))\n",
    "#                 f.write(\"{} \\t {:.3f} \\n\".format(periods[i],vel_new[i]))\n",
    "print(count,key)\n",
    "print(\"ok return\")"
   ]
  },
  {
   "cell_type": "code",
   "execution_count": 5,
   "metadata": {
    "ExecuteTime": {
     "end_time": "2020-11-21T11:37:08.673586Z",
     "start_time": "2020-11-21T11:37:08.670868Z"
    },
    "scrolled": true
   },
   "outputs": [],
   "source": [
    "from mpl_toolkits.basemap import Basemap\n",
    "# You should install basemap via conda install basemap==1.3.0 if you want to see the distribution of \n",
    "# disperison curve grids.\n",
    "# https://matplotlib.org/basemap/users/installing.html\n",
    "fig=plt.figure(5)\n",
    "m = Basemap(projection='mill', llcrnrlon=73, llcrnrlat=18, urcrnrlon=135,\n",
    "            urcrnrlat=53)\n",
    "m.drawcountries(linewidth=1.5)\n",
    "m.drawcoastlines(linewidth=1.5)\n",
    "count = 0\n",
    "lat_all=[]\n",
    "lon_all=[]\n",
    "for i in key_all:\n",
    "    count=count+1\n",
    "    \n",
    "    lat,lon=i.split(\"_\")\n",
    "    lat_all.append(float(lat))\n",
    "    lon_all.append(float(lon))\n",
    "lon_all,lat_all = m(lon_all,lat_all)\n",
    "print(count)\n",
    "plt.plot((lon_all),(lat_all), 'o')\n",
    "plt.pause(1)"
   ]
  },
  {
   "cell_type": "code",
   "execution_count": 6,
   "metadata": {
    "collapsed": true
   },
   "outputs": [],
   "source": []
  },
  {
   "cell_type": "code",
   "execution_count": null,
   "metadata": {
    "collapsed": true
   },
   "outputs": [],
   "source": []
  }
 ],
 "metadata": {
  "kernelspec": {
   "display_name": "Python 3",
   "language": "python",
   "name": "python3"
  },
  "language_info": {
   "codemirror_mode": {
    "name": "ipython",
    "version": 3
   },
   "file_extension": ".py",
   "mimetype": "text/x-python",
   "name": "python",
   "nbconvert_exporter": "python",
   "pygments_lexer": "ipython3",
   "version": "3.8.5"
  },
  "toc": {
   "base_numbering": 1,
   "nav_menu": {},
   "number_sections": true,
   "sideBar": true,
   "skip_h1_title": false,
   "title_cell": "Table of Contents",
   "title_sidebar": "Contents",
   "toc_cell": false,
   "toc_position": {},
   "toc_section_display": true,
   "toc_window_display": false
  },
  "varInspector": {
   "cols": {
    "lenName": 16,
    "lenType": 16,
    "lenVar": 40
   },
   "kernels_config": {
    "python": {
     "delete_cmd_postfix": "",
     "delete_cmd_prefix": "del ",
     "library": "var_list.py",
     "varRefreshCmd": "print(var_dic_list())"
    },
    "r": {
     "delete_cmd_postfix": ") ",
     "delete_cmd_prefix": "rm(",
     "library": "var_list.r",
     "varRefreshCmd": "cat(var_dic_list()) "
    }
   },
   "types_to_exclude": [
    "module",
    "function",
    "builtin_function_or_method",
    "instance",
    "_Feature"
   ],
   "window_display": false
  }
 },
 "nbformat": 4,
 "nbformat_minor": 1
}
