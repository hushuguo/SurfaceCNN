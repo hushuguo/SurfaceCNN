{
 "cells": [
  {
   "cell_type": "code",
   "execution_count": 1,
   "metadata": {},
   "outputs": [
    {
     "name": "stdout",
     "output_type": "stream",
     "text": [
      "['8.dat', '10.dat', '12.dat', '14.dat', '16.dat', '18.dat', '20.dat', '22.dat', '24.dat', '26.dat', '28.dat', '30.dat', '32.dat', '35.dat', '40.dat', '45.dat', '50.dat']\n"
     ]
    }
   ],
   "source": [
    "#对文件进行排序\n",
    "import os\n",
    "import matplotlib.pyplot as plt\n",
    "import numpy as np\n",
    "from scipy.interpolate import InterpolatedUnivariateSpline\n",
    "files = os.listdir('./Input/InputGroupData/')\n",
    "os.system('mkdir Output')\n",
    "periods = np.array([8,10,12,14,16,18,20,22,24,26,28,30,32,35,40,45,50])\n",
    "files.sort(key = lambda x:int(x[:-4]))\n",
    "print(files)"
   ]
  },
  {
   "cell_type": "code",
   "execution_count": 2,
   "metadata": {},
   "outputs": [
    {
     "name": "stdout",
     "output_type": "stream",
     "text": [
      "4666 30.50_133.00\n",
      "OK Return\n"
     ]
    }
   ],
   "source": [
    "#参数声明：period 输入文件名的序号、temp 输入文件名的分开表示、lines输入文件的内容、key输入数据的\n",
    "#          经纬度信息（保留两位）、dispersion保存文件的序号，速度和误差、x 文件的序号、y 文件的速度、z 文件的误差\n",
    "#          vel_new 通过插值的新的速度、error_new 通过插值的新的误差、periods 设定的插值数组、key_all 数据中所有的\n",
    "#          经纬度信息\n",
    "#设定一个元组保存\n",
    "dispersion = {}\n",
    "#遍历file文件\n",
    "for file in files:\n",
    "    if(file[-4:] == '.dat'):\n",
    "        #split保存在数组里\n",
    "        temp = file.split('.')\n",
    "        #print(temp)\n",
    "        period = temp[0]\n",
    "        #print(period,file)\n",
    "        #loadtxt把内容保存在数组里,返回值也是数组\n",
    "        lines = np.loadtxt('./Input/InputGroupData/' + period + '.dat')\n",
    "        #print(lines)\n",
    "        #对每一个数据进行遍历\n",
    "        for line in lines:\n",
    "            lon,lat,vel,error= line[0],line[1],line[2],line[3]\n",
    "            #print(lon,lat,vel)\n",
    "            #将数据都用浮点数表示出来\n",
    "            error = float(line[3])\n",
    "            key = \"%.2f\"%lat + \"_\" +\"%.2f\"%lon\n",
    "            #print(key)\n",
    "            if key in dispersion:\n",
    "                dispersion[key].append([float(period),float(vel),float(error)])\n",
    "            else:\n",
    "                dispersion[key]=[[float(period),float(vel),float(error)]]\n",
    "            #print(dispersion[key])\n",
    "key_all = []\n",
    "count = 0\n",
    "for key in dispersion:\n",
    "    a = np.array(dispersion[key])\n",
    "    x = a[:,0];y = a[:,1];z = a[:,2]\n",
    "    #print(x)\n",
    "    if abs(len(periods) - len(x)) < 5:\n",
    "        key_all.append(key)\n",
    "        count = count + 1\n",
    "        \n",
    "        #此方法可外插值\n",
    "        f1 = InterpolatedUnivariateSpline(x,y,k=1)\n",
    "        f2 = InterpolatedUnivariateSpline(x,z,k=1)\n",
    "        \n",
    "        #生成新的速度和误差\n",
    "        vel_new = f1(periods)\n",
    "        error_new = f2(periods)\n",
    "        #plt.plot(periods,vel_new,'o')\n",
    "        #plt.pauce(0.5)\n",
    "        #plt.clf()\n",
    "        with open('./Output/dispersion_gr/' + key + '.txt' ,'w') as f:\n",
    "            for i in np.arange(len(periods)):\n",
    "                f.write('{} \\t {:.3f} \\t {:.4f} \\n'.format(periods[i],vel_new[i],error_new[i]))\n",
    "print(count,key)\n",
    "print(\"OK Return\")"
   ]
  },
  {
   "cell_type": "code",
   "execution_count": 3,
   "metadata": {},
   "outputs": [
    {
     "name": "stdout",
     "output_type": "stream",
     "text": [
      "4666\n"
     ]
    },
    {
     "data": {
      "text/plain": [
       "[<matplotlib.lines.Line2D at 0x170b33c7c10>]"
      ]
     },
     "execution_count": 3,
     "metadata": {},
     "output_type": "execute_result"
    },
    {
     "data": {
      "image/png": "[encoded data removed]",
      "text/plain": [
       "<Figure size 432x288 with 1 Axes>"
      ]
     },
     "metadata": {},
     "output_type": "display_data"
    }
   ],
   "source": [
    "#用basemap成图,测试数据的覆盖范围\n",
    "from mpl_toolkits.basemap import Basemap\n",
    "fig = plt.figure(5)\n",
    "m = Basemap(projection = 'mill', llcrnrlon = 73,llcrnrlat = 18,urcrnrlon = 135,urcrnrlat = 53)\n",
    "m.drawcoastlines(linewidth = 1.5)\n",
    "m.drawcountries(linewidth = 1.5)\n",
    "count = 0\n",
    "lat_all = []\n",
    "lon_all = []\n",
    "for i in key_all:\n",
    "    count = count + 1\n",
    "    lat,lon = i.split('_')\n",
    "    lat_all.append(float(lat))\n",
    "    lon_all.append(float(lon))\n",
    "lon_all,lat_all =m(lon_all,lat_all)\n",
    "print(count)\n",
    "plt.plot((lon_all),(lat_all),'o')"
   ]
  },
  {
   "cell_type": "code",
   "execution_count": null,
   "metadata": {},
   "outputs": [],
   "source": []
  }
 ],
 "metadata": {
  "kernelspec": {
   "display_name": "Python 3",
   "language": "python",
   "name": "python3"
  },
  "language_info": {
   "codemirror_mode": {
    "name": "ipython",
    "version": 3
   },
   "file_extension": ".py",
   "mimetype": "text/x-python",
   "name": "python",
   "nbconvert_exporter": "python",
   "pygments_lexer": "ipython3",
   "version": "3.8.5"
  }
 },
 "nbformat": 4,
 "nbformat_minor": 4
}
