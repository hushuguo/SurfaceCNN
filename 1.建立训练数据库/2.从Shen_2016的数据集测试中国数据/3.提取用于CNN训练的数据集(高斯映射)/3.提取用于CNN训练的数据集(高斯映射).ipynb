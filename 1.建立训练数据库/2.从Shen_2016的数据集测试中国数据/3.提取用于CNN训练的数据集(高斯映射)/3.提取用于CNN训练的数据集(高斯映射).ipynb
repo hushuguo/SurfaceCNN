{
 "cells": [
  {
   "cell_type": "code",
   "execution_count": 1,
   "metadata": {},
   "outputs": [
    {
     "name": "stdout",
     "output_type": "stream",
     "text": [
      "4518\n"
     ]
    }
   ],
   "source": [
    "#？？？提取vs ph gr共有的点？？？\n",
    "#这些数据首先用于生成高斯图，然后输入到CNN中以预测1-D Vs\n",
    "#内容输出到./Output/disp_pg_real文件中\n",
    "\n",
    "#导入库\n",
    "import numpy as np\n",
    "import matplotlib.pyplot as plt\n",
    "from scipy.interpolate import interp1d\n",
    "import os\n",
    "\n",
    "#给出步骤1，2提取的相速度和群速度数据的路径\n",
    "filepath_ph = './Output/dispersion_ph/'\n",
    "filepath_gr = './Output/dispersion_gr/'\n",
    "\n",
    "#创建disp_combine_gaussian_map_test、Figs和disp_pg_real文件夹\n",
    "#???  高斯图像是什么？高斯图像的目的是什么？如何生成高斯图像？\n",
    "os.system('mkdir ./Output/disp_combine_gaussian_map_test')\n",
    "os.system('mkdir Figs')\n",
    "os.system('mkdir ./Output/disp_pg_real')\n",
    "\n",
    "#创建数组：深度depth、depth_mark和periods\n",
    "#depth = np.array([2.5,5,10,15,20,30,40,60,80,100,120,150,180])\n",
    "depth_mark = np.array([0,5,10,15,20,30,40,60,80,100,120,150,180])\n",
    "depth = np.arange(0,150.5,0.5)\n",
    "#???  8-50是什么意思？？？秒数吗？\n",
    "periods = np.array([8,10,12,14,16,18,20,22,24,26,28,30,32,35,40,45,50])\n",
    "count = 0\n",
    "\n",
    "#???  纬度为什么不从4度开始？\n",
    "for lat in np.arange(4,60,0.5):\n",
    "    for lon in np.arange(70,140,0.5):\n",
    "        key = '%.2f'%lat + '_' + '%.2f'%lon\n",
    "        key_name = key + '.txt'\n",
    "        file_gr = filepath_gr + key_name\n",
    "        file_ph = filepath_ph + key_name\n",
    "        if os.path.exists(file_ph) and os.path.exists(file_gr):\n",
    "            temp = np.loadtxt(file_ph); freqs_p = temp[:,0]; vel_p = temp[:,1];error_p = temp[:,2]\n",
    "            temp = np.loadtxt(file_gr); freqs_g = temp[:,0]; vel_g = temp[:,1];error_g = temp[:,2]\n",
    "            if len(temp) > 1:\n",
    "                count = count + 1\n",
    "                #用这些数据去预测CNN生成的Vs曲线\n",
    "                tpg_out = np.array([periods,vel_p,error_p,vel_g,error_g])\n",
    "                np.savetxt('./Output/disp_pg_real/' + '%.2f'%lat + '_' + '%.2f'%lon + '.txt',tpg_out,fmt = '%10.5f')\n",
    "print(count)"
   ]
  },
  {
   "cell_type": "code",
   "execution_count": 2,
   "metadata": {},
   "outputs": [],
   "source": [
    "#???为什么要使用高斯映射？\n",
    "#vel_axis矩阵的行数是rows，vel矩阵的行数是cols，生成vel_map行数和列数个0\n",
    "def gaussian_map(vel,vel_axis,radius = 0.1):\n",
    "    rows = vel_axis.shape[0]\n",
    "    cols = vel.shape[0]\n",
    "    vel_map = np.zeros((rows,cols))\n",
    "    #range(cols)结果是0，1，2，……,cols-1\n",
    "    for i in range(cols):\n",
    "        vel_temp = vel[i]\n",
    "        x_gaussian = gaussian(vel_temp, vel_axis, r=radius)\n",
    "        vel_map[:,i] = x_gaussian\n",
    "    return vel_map\n",
    "def gaussian(vel,vel_axis,r=0.1):\n",
    "    x_gaussian = np.exp(-(vel_axis-vel)**2/2*r**2)\n",
    "    return x_gaussian"
   ]
  },
  {
   "cell_type": "code",
   "execution_count": 10,
   "metadata": {},
   "outputs": [
    {
     "data": {
      "text/plain": [
       "<Figure size 720x288 with 0 Axes>"
      ]
     },
     "metadata": {},
     "output_type": "display_data"
    }
   ],
   "source": [
    "#从1到5生成60个数,包含1和5\n",
    "vel_axis = np.linspace(1,5,num=60);r = 0.1\n",
    "#???plot_flag是干什么用的？\n",
    "plot_flag = False;count = 0\n",
    "fig = plt.figure(1,figsize = (10,4))\n",
    "for lat in np.arange(4,60,0.5):\n",
    "    for lon in np.arange(70,140,0.5):\n",
    "        key = \"%.2f\"%lat + \"_\" + \"%.2f\"%lon\n",
    "        key_name = key + '.txt'\n",
    "        file_gr = filepath_gr + key_name\n",
    "        file_ph = filepath_ph + key_name\n",
    "        if os.path.exists(file_gr) and os.path.exists(file_ph):\n",
    "            temp = np.loadtxt(file_ph);freqs_ph = temp[:,0];vel_p = temp[:,1];error_p = temp[:,2]\n",
    "            temp = np.loadtxt(file_gr);freqs_gr = temp[:,0];vel_g = temp[:,1];error_g = temp[:,2]\n",
    "            if len(temp) > 1:\n",
    "                count = count + 1\n",
    "                #vel_map_p &vel_map_g是经过高斯函数运算出来的 vel_p列、vel_axis行的？？？数据？？？？\n",
    "                vel_map_p = gaussian_map(vel_p,vel_axis,radius=r)\n",
    "                vel_map_g = gaussian_map(vel_g,vel_axis,radius=r)\n",
    "                name_pg = './Output/disp_combine_gaussian_map_test/c_' + '%.2f'%lat + '_' + '%.2f'%lon +'.npy'\n",
    "                np.save(name_pg,np.array([vel_map_p,vel_map_g]))\n",
    "                if not(plot_flag):\n",
    "                    #subplot把图分成了1行2列，图像创建在第1个区域\n",
    "                    plt.subplot(1,2,1)\n",
    "                    #imshow接收一张图像，只是画出该图，但不会显示,aspect是纵横比、origin显示索引的位置、\n",
    "                    #extent坐标位置\n",
    "                    plt.imshow(vel_map_p,aspect = 'auto',origin= 'lower',extent = [8,50,2,5])\n",
    "                    plt.xlabel('T(s)')\n",
    "                    plt.ylabel('Vs(km/s)')\n",
    "                    plt.title('Phase Velocity')\n",
    "                    plt.subplot(1,2,2)\n",
    "                    plt.imshow(vel_map_g,aspect = 'auto',origin = 'lower',extent = [8,50,2,5])\n",
    "                    plt.xlabel('T(s)')\n",
    "                    plt.ylabel('Vs(km/s)')\n",
    "                    plt.title('Group Velocity')\n",
    "                    #plt.tight_layout() 自动调整子图参数以提供指定的填充\n",
    "                    plt.tight_layout()\n",
    "                    plt.savefig('./Figs/'+ key +'.jpg')\n",
    "                    #plt.show()\n",
    "                    fig.clear()"
   ]
  }
 ],
 "metadata": {
  "kernelspec": {
   "display_name": "Python 3",
   "language": "python",
   "name": "python3"
  },
  "language_info": {
   "codemirror_mode": {
    "name": "ipython",
    "version": 3
   },
   "file_extension": ".py",
   "mimetype": "text/x-python",
   "name": "python",
   "nbconvert_exporter": "python",
   "pygments_lexer": "ipython3",
   "version": "3.8.5"
  }
 },
 "nbformat": 4,
 "nbformat_minor": 4
}
