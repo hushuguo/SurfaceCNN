{
 "cells": [
  {
   "cell_type": "code",
   "execution_count": 6,
   "metadata": {},
   "outputs": [],
   "source": [
    "#输入文件是 ../Output/disp_pg_real/,文件中包含周期、相速度、相速度误差、群速度、群速度误差\n",
    "#目的：画出相同周期下群速度和相速度图像\n",
    "import numpy as np\n",
    "import os\n",
    "os.system('mkdir ./Output')\n",
    "periods = np.array([8,10,12,14,16,18,20,22,24,26,28,30,32,35,40,45,50])\n",
    "#index的用于选取periods中的10s、20s、30s、40s\n",
    "index = [1,6,11.14]\n",
    "#open语句可以创建文件\n",
    "fid1 = open('./Output/'+ str(periods[0]) + 's.txt','w')\n",
    "fid2 = open('./Output/'+ str(periods[1]) + 's.txt','w')\n",
    "fid3 = open('./Output/'+ str(periods[2]) + 's.txt','w')\n",
    "fid4 = open('./Output/'+ str(periods[3]) + 's.txt','w')\n",
    "with open('./FileName.txt') as f:\n",
    "    for line in f:\n",
    "        lon1,lat1,vs = line.split()\n",
    "        lon = lon1[0:-3];lat = lat1[0:-3]\n",
    "        filename = lat + '_' + lon + '.txt'\n",
    "        data = np.loadtxt('./Input/disp_pg_real/' + filename)\n",
    "        \n",
    "        #写入文件信息,把disp_pg_real数据中的周期、相速度、相速度误差、群速度、群速度误差改成\n",
    "        #经度、纬度、相速度、相速度误差、群速度、群速度误差\n",
    "        period,phase,phun,group,grun = data[:,index[0]]\n",
    "        fid1.write(\"{} {} {} {} {} {} \\n\".format(lon,lat,phase,phun,group,grun))\n",
    "        \n",
    "        period,phase,phun,group,grun = data[:,index[0]]\n",
    "        fid2.write(\"{} {} {} {} {} {} \\n\".format(lon,lat,phase,phun,group,grun))\n",
    "        \n",
    "        period,phase,phun,group,grun = data[:,index[0]]\n",
    "        fid3.write(\"{} {} {} {} {} {} \\n\".format(lon,lat,phase,phun,group,grun))\n",
    "        \n",
    "        period,phase,phun,group,grun = data[:,index[0]]\n",
    "        fid4.write(\"{} {} {} {} {} {} \\n\".format(lon,lat,phase,phun,group,grun))\n",
    "        \n",
    "fid1.close()\n",
    "fid2.close()\n",
    "fid3.close()\n",
    "fid4.close()"
   ]
  },
  {
   "cell_type": "code",
   "execution_count": null,
   "metadata": {},
   "outputs": [],
   "source": []
  }
 ],
 "metadata": {
  "kernelspec": {
   "display_name": "Python 3",
   "language": "python",
   "name": "python3"
  },
  "language_info": {
   "codemirror_mode": {
    "name": "ipython",
    "version": 3
   },
   "file_extension": ".py",
   "mimetype": "text/x-python",
   "name": "python",
   "nbconvert_exporter": "python",
   "pygments_lexer": "ipython3",
   "version": "3.8.5"
  }
 },
 "nbformat": 4,
 "nbformat_minor": 4
}
