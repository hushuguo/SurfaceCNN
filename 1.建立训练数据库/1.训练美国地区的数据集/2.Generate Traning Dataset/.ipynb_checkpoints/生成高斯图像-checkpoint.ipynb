{
 "cells": [
  {
   "cell_type": "code",
   "execution_count": 3,
   "metadata": {},
   "outputs": [],
   "source": [
    "import matplotlib.pyplot as plt\n",
    "import numpy as np\n",
    "#定义一个新的函数，包含文件路径，速度文件路径，文件类型\n",
    "#?这些参数再如何使用，定义的函数如何实现？\n",
    "def get_filename(file_path_training,filepath_vs_training,data_type):\n",
    "    \n",
    "    #？定义这几个矩阵的目的是什么？\n",
    "    filename_disperation_total = []\n",
    "    filename_vs_total = []\n",
    "    key_total = []\n",
    "    \n",
    "    #定义函数操作\n",
    "    if data_type == 'train':\n",
    "        \n",
    "        #如果文件的路径也存在\n",
    "        if(os.path.exists(file_path_training) and os.path.exists(filepath_vs_training)):\n",
    "            \n",
    "            #？这个文件夹应该是提前存在的，才能打印出文件列表？\n",
    "            file_disp = os.listdir(filepath_disp_training)\n",
    "            #读操作\n",
    "            for file in file_disp:\n",
    "                #？从第2个到倒数第4的目的是什么？\n",
    "                key = file[2:-4]\n",
    "                print(key)"
   ]
  },
  {
   "cell_type": "code",
   "execution_count": null,
   "metadata": {},
   "outputs": [],
   "source": []
  }
 ],
 "metadata": {
  "kernelspec": {
   "display_name": "Python 3",
   "language": "python",
   "name": "python3"
  },
  "language_info": {
   "codemirror_mode": {
    "name": "ipython",
    "version": 3
   },
   "file_extension": ".py",
   "mimetype": "text/x-python",
   "name": "python",
   "nbconvert_exporter": "python",
   "pygments_lexer": "ipython3",
   "version": "3.8.5"
  }
 },
 "nbformat": 4,
 "nbformat_minor": 4
}
