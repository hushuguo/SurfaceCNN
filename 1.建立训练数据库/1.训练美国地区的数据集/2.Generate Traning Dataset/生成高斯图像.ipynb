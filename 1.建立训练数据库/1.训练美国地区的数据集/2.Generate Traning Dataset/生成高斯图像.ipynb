{
 "cells": [
  {
   "cell_type": "code",
   "execution_count": null,
   "metadata": {},
   "outputs": [],
   "source": [
    "import matlpotlib.pyplot as plt\n",
    "import numpy as np\n",
    "\n",
    "#三个自变量，filepath_disp_training、filepath_vs_training、dataset_type\n",
    "def get_filename(filepath_disp_training,filepath_vs_training,dataset_type):\n",
    "    filename_disperation_total = []\n",
    "    filename_vs_total = []\n",
    "    key_total = []\n",
    "    if dataset_type == 'train':\n",
    "        "
   ]
  }
 ],
 "metadata": {
  "kernelspec": {
   "display_name": "Python 3",
   "language": "python",
   "name": "python3"
  },
  "language_info": {
   "codemirror_mode": {
    "name": "ipython",
    "version": 3
   },
   "file_extension": ".py",
   "mimetype": "text/x-python",
   "name": "python",
   "nbconvert_exporter": "python",
   "pygments_lexer": "ipython3",
   "version": "3.8.5"
  }
 },
 "nbformat": 4,
 "nbformat_minor": 4
}
