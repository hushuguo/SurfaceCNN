{
 "cells": [
  {
   "cell_type": "markdown",
   "id": "soviet-consultation",
   "metadata": {},
   "source": [
    "# This is a CNN train programer\n",
    "you can use this python programer to train USA's Dataset,and the input files are USA's usa_pg_real & USA's Vs data"
   ]
  },
  {
   "cell_type": "markdown",
   "id": "objective-classic",
   "metadata": {},
   "source": [
    "### 1.引入头文件"
   ]
  },
  {
   "cell_type": "code",
   "execution_count": 2,
   "id": "successful-netscape",
   "metadata": {},
   "outputs": [],
   "source": [
    "#在没有GUI的情况下使用画图matplotlib包\n",
    "#导入深度学习文件库\n",
    "import torch\n",
    "import torch.nn.functional as F\n",
    "import torch.nn as nn\n",
    "import torch.optim as optim\n",
    "from torch.utils.data import DataLoader\n",
    "from torchsummary import torchsummary\n",
    "#导入画图库\n",
    "import matplotlib.pyplot as plt\n",
    "#tensorboardX是可视化工具\n",
    "from tensorboardX import SummaryWriter\n",
    "#导入必要库\n",
    "import numpy as np\n",
    "import time\n",
    "import os\n",
    "#导入CNN深度学习库\n",
    "#？？？totensor是干什么的\n",
    "from src.loadData import ToTensor,DispVsDataset,getTrainValidationFiles\n",
    "from src.NetModel_curve import Net as Net\n",
    "from src.util import randomFix, checkpoint, writerlogfile,MyLoss,weights_init\n",
    "from config import Config"
   ]
  },
  {
   "cell_type": "code",
   "execution_count": null,
   "id": "unusual-portsmouth",
   "metadata": {},
   "outputs": [],
   "source": []
  }
 ],
 "metadata": {
  "kernelspec": {
   "display_name": "Python 3",
   "language": "python",
   "name": "python3"
  },
  "language_info": {
   "codemirror_mode": {
    "name": "ipython",
    "version": 3
   },
   "file_extension": ".py",
   "mimetype": "text/x-python",
   "name": "python",
   "nbconvert_exporter": "python",
   "pygments_lexer": "ipython3",
   "version": "3.8.5"
  }
 },
 "nbformat": 4,
 "nbformat_minor": 5
}
